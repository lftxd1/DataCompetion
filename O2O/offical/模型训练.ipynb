{
 "cells": [
  {
   "cell_type": "code",
   "execution_count": 2,
   "metadata": {},
   "outputs": [],
   "source": [
    "from sklearn import metrics  \n",
    "import numpy as np  \n",
    "import pandas as pd\n",
    "import datetime\n",
    "from sklearn.model_selection import StratifiedKFold\n",
    "import lightgbm as lgb\n",
    "import xgboost as xgb\n",
    "import matplotlib.pyplot as plt\n",
    "from sklearn.naive_bayes import GaussianNB\n",
    "from sklearn.model_selection import learning_curve\n",
    "from sklearn.model_selection import ShuffleSplit\n",
    "#########SKLearn 集成的算法###############\n",
    "from sklearn.neighbors import KNeighborsClassifier  \n",
    "from sklearn.ensemble import RandomForestClassifier\n",
    "from sklearn import tree  \n",
    "from sklearn.ensemble import GradientBoostingClassifier\n",
    "from sklearn.svm import SVC \n",
    "from sklearn.linear_model import LogisticRegression\n",
    "from xgboost import XGBClassifier\n",
    "from lightgbm import LGBMClassifier\n",
    "from sklearn.naive_bayes import MultinomialNB \n",
    "#########SKLearn 集成的算法###############\n",
    "from sklearn.model_selection import train_test_split # 切分数据\n",
    "from sklearn.metrics import mean_squared_error #评价指标\n",
    "\n",
    "from sklearn.model_selection import learning_curve\n",
    "from sklearn.model_selection import ShuffleSplit\n",
    "import warnings\n",
    "warnings.filterwarnings(\"ignore\")\n",
    " \n",
    "%matplotlib inline"
   ]
  },
  {
   "cell_type": "code",
   "execution_count": 3,
   "metadata": {},
   "outputs": [],
   "source": [
    "############全局参数#################################\n",
    "id_col_names=['user_id','coupon_id','date_received']\n",
    "target_col_name='label'\n",
    "id_target_cols=['user_id','coupon_id','date_received','label']\n",
    "myeval='roc_auc'\n",
    "cvscore=0\n",
    "############目录定义#################################\n",
    "datapath = 'data/' \n",
    "featurepath = 'feature/' \n",
    "resultpath = 'result/'\n",
    "tmppath = 'tmp/'\n",
    "scorepath = 'score/'\n",
    "###########工具函数#############################################"
   ]
  },
  {
   "cell_type": "code",
   "execution_count": 4,
   "metadata": {},
   "outputs": [],
   "source": [
    "###########工具函数#############################################\n",
    "#返回ID列\n",
    "def get_id_df(df):\n",
    "    return df[id_col_names]\n",
    "\n",
    "#返回Target列\n",
    "def get_target_df(df):\n",
    "    return df[target_col_name]\n",
    "\n",
    "#返回特征列\n",
    "def get_predictors_df(df):\n",
    "    predictors = [f for f in df.columns if f not in id_target_cols]\n",
    "    return df[predictors]\n",
    "\n",
    "#按特征名读取训练集\n",
    "def read_featurefile_train(featurename): \n",
    "    df=pd.read_csv(featurepath+'train_'+featurename+'.csv', sep=',' , encoding = \"utf-8\")\n",
    "    df.fillna(0,inplace=True)\n",
    "    return df\n",
    "\n",
    "#按特征名读取测试集\n",
    "def read_featurefile_test(featurename): \n",
    "    df=pd.read_csv(featurepath+'test_'+featurename+'.csv', sep=',' , encoding = \"utf-8\")\n",
    "    df.fillna(0,inplace=True)\n",
    "    return df\n",
    "\n",
    "#按特征名读取数据\n",
    "def read_data(featurename): \n",
    "    traindf = read_featurefile_train(featurename)\n",
    "    testdf = read_featurefile_test(featurename)\n",
    "    return traindf,testdf  "
   ]
  },
  {
   "cell_type": "code",
   "execution_count": 5,
   "metadata": {},
   "outputs": [],
   "source": [
    "# 将特征归一化\n",
    "def standize_df(train_data,test_data):\n",
    "    from sklearn import preprocessing \n",
    "    \n",
    "    features_columns = [f for f in test_data.columns if f not in id_target_cols]\n",
    "    min_max_scaler = preprocessing.MinMaxScaler()\n",
    "    min_max_scaler = min_max_scaler.fit(train_data[features_columns])\n",
    "    \n",
    "    train_data_scaler = min_max_scaler.transform(train_data[features_columns])\n",
    "    test_data_scaler = min_max_scaler.transform(test_data[features_columns])\n",
    "    \n",
    "    train_data_scaler = pd.DataFrame(train_data_scaler)\n",
    "    train_data_scaler.columns = features_columns\n",
    "    \n",
    "    test_data_scaler = pd.DataFrame(test_data_scaler)\n",
    "    test_data_scaler.columns = features_columns\n",
    "    \n",
    "    train_data_scaler['label'] = train_data['label']\n",
    "    train_data_scaler[id_col_names] = train_data[id_col_names]\n",
    "    test_data_scaler[id_col_names] = test_data[id_col_names]\n",
    "    return train_data_scaler,test_data_scaler"
   ]
  },
  {
   "cell_type": "code",
   "execution_count": 148,
   "metadata": {},
   "outputs": [],
   "source": [
    "####################部分整合在sklearn的分类算法###############\n",
    "from sklearn.neural_network import MLPClassifier\n",
    "def get_sklearn_model(model_name):\n",
    "    #朴素贝叶斯\n",
    "    if model_name=='NB':\n",
    "        return MultinomialNB(alpha=0.01)\n",
    "    #逻辑回归\n",
    "    elif model_name=='LR':\n",
    "        return LogisticRegression(penalty='l2') \n",
    "    # KNN  \n",
    "    elif model_name=='KNN':\n",
    "        return KNeighborsClassifier()  \n",
    "    #随机森林\n",
    "    elif model_name=='RF':\n",
    "        return RandomForestClassifier()  \n",
    "    #决策树\n",
    "    elif model_name=='DT':\n",
    "        return tree.DecisionTreeClassifier()  \n",
    "    #向量机\n",
    "    elif model_name=='SVC':\n",
    "        return SVC(kernel='rbf')\n",
    "    #GBDT\n",
    "    elif model_name=='GBDT':\n",
    "        return GradientBoostingClassifier()\n",
    "    #XGBoost\n",
    "    elif model_name=='XGB':\n",
    "        return XGBClassifier()\n",
    "    #lightGBM\n",
    "    elif model_name=='LGB':\n",
    "        return LGBMClassifier()\n",
    "    elif model_name==\"MLP\":\n",
    "        model=MLPClassifier(activation='relu', alpha=1e-05, batch_size='auto', beta_1=0.9,\n",
    "        beta_2=0.999, early_stopping=False, epsilon=1e-08,\n",
    "        hidden_layer_sizes=(50,50,50), learning_rate='constant',\n",
    "        learning_rate_init=0.01, max_iter=200, momentum=0.9,\n",
    "        nesterovs_momentum=True, power_t=0.5, random_state=1, shuffle=True,\n",
    "        solver='sgd', tol=0.0001, validation_fraction=0.1, verbose=False,\n",
    "        warm_start=False)\n",
    "        return model\n",
    "    else:\n",
    "        print(\"wrong model name!\")\n"
   ]
  },
  {
   "cell_type": "code",
   "execution_count": 7,
   "metadata": {},
   "outputs": [],
   "source": [
    "#画学习曲线\n",
    "def plot_learning_curve(estimator, title, X, y, ylim=None, cv=None,\n",
    "                        n_jobs=1, train_sizes=[0.01,0.02,0.05,0.1,0.2,0.3]):\n",
    "    plt.figure()\n",
    "    plt.title(title)\n",
    "    if ylim is not None:\n",
    "        plt.ylim(*ylim)\n",
    "    plt.xlabel(\"Training examples\")\n",
    "    plt.ylabel(\"Score\")\n",
    "    train_sizes, train_scores, test_scores = learning_curve(\n",
    "        estimator, X, y, cv=cv,scoring=myeval, n_jobs=n_jobs, train_sizes=train_sizes)\n",
    "    train_scores_mean = np.mean(train_scores, axis=1)\n",
    "    train_scores_std = np.std(train_scores, axis=1)\n",
    "    test_scores_mean = np.mean(test_scores, axis=1)\n",
    "    test_scores_std = np.std(test_scores, axis=1)\n",
    "    plt.grid()\n",
    " \n",
    "    plt.fill_between(train_sizes, train_scores_mean - train_scores_std,\n",
    "                     train_scores_mean + train_scores_std, alpha=0.1,\n",
    "                     color=\"r\")\n",
    "    plt.fill_between(train_sizes, test_scores_mean - test_scores_std,\n",
    "                     test_scores_mean + test_scores_std, alpha=0.1, color=\"g\")\n",
    "    plt.plot(train_sizes, train_scores_mean, 'o-', color=\"r\",\n",
    "             label=\"Training score\")\n",
    "    plt.plot(train_sizes, test_scores_mean, 'o-', color=\"g\",\n",
    "             label=\"Cross-validation score\")\n",
    " \n",
    "    plt.legend(loc=\"best\")\n",
    "    return plt\n",
    "\n",
    "#画算法的学习曲线,为加快画图速度，最多选20%数据\n",
    "def plot_curve_single(traindf,classifier,cvnum,train_sizes=[0.01,0.02,0.05,0.1,0.2,0.3]): \n",
    "    X=get_predictors_df(traindf)\n",
    "    y=get_target_df(traindf)\n",
    "    estimator = get_sklearn_model(classifier)    #建模\n",
    "    title = \"learning curve of \"+classifier+\", cv:\"+str(cvnum)\n",
    "    plot_learning_curve(estimator, title, X, y, ylim=(0, 1.01), cv=cvnum, train_sizes=train_sizes)"
   ]
  },
  {
   "cell_type": "code",
   "execution_count": 87,
   "metadata": {},
   "outputs": [],
   "source": [
    "#性能评价函数\n",
    "#本赛题目标是预测投放的优惠券是否核销。\n",
    "#针对此任务及一些相关背景知识，使用优惠券核销预测的平均AUC（ROC曲线下面积）作为评价标准。 \n",
    "#即对每个优惠券coupon_id单独计算核销预测的AUC值，再对所有优惠券的AUC值求平均作为最终的评价标准。\n",
    "# coupon平均auc计算\n",
    "# label就是优惠券是否核销，每个人领取的优惠券是唯一的。\n",
    "\n",
    "def myauc(test):\n",
    "    testgroup = test.groupby(['coupon_id'])\n",
    "    aucs = []\n",
    "    for i in testgroup:\n",
    "        coupon_df = i[1]\n",
    "        #测算AUC必须大于1个类别\n",
    "        if len(coupon_df['label'].unique()) < 2:\n",
    "            continue\n",
    "        auc = metrics.roc_auc_score(coupon_df['label'], coupon_df['pred'])\n",
    "        aucs.append(auc)\n",
    "    return np.average(aucs)\n",
    "\n",
    "\n",
    "\n",
    "\n",
    "def test_model_split(traindf,classifier):\n",
    "    \n",
    "    target = get_target_df(traindf).copy()\n",
    "    \n",
    "    train_all,test_all,train_target,test_target=train_test_split(traindf,target,test_size=0.1,random_state=0)\n",
    "    \n",
    "    train_data = get_predictors_df(train_all).copy()\n",
    "    test_data = get_predictors_df(test_all).copy()\n",
    "    \n",
    "    clf = get_sklearn_model(classifier)\n",
    "\n",
    "\n",
    "\n",
    "    result=clf.predict_proba(test_data)[:,1]\n",
    "    \n",
    "    test=test_all.copy()\n",
    "    test['pred']=result\n",
    "    \n",
    "    score = metrics.roc_auc_score(test_target, result)\n",
    "    print(classifier+\"总体AUC:\", score)\n",
    "    score_coupon = myauc(test)\n",
    "    print(classifier+\" Coupon AUC:\", score_coupon)\n",
    "\n"
   ]
  },
  {
   "cell_type": "code",
   "execution_count": null,
   "metadata": {},
   "outputs": [],
   "source": []
  },
  {
   "cell_type": "code",
   "execution_count": 66,
   "metadata": {},
   "outputs": [],
   "source": [
    "def test_model_stack(traindf,classifier_list):\n",
    "    train=traindf[traindf.date_received<20160515].copy()\n",
    "    test=traindf[traindf.date_received>=20160515].copy()\n",
    "\n",
    "    train_data = get_predictors_df(train).copy()\n",
    "    train_target = get_target_df(train).copy()\n",
    "    test_data = get_predictors_df(test).copy()\n",
    "    test_target = get_target_df(test).copy()\n",
    "\n",
    "    flag=False\n",
    "    for classifier in classifier_list:\n",
    "        clf = get_sklearn_model(classifier)\n",
    "        clf.fit(train_data, train_target)\n",
    "        if flag==False:\n",
    "            result=clf.predict_proba(test_data)[:,1]*0.3\n",
    "            flag=True\n",
    "        else:\n",
    "            result+=clf.predict_proba(test_data)[:,1]/len(classifier_list)*0.7\n",
    "\n",
    "    test['pred']=result\n",
    "    #score = metrics.roc_auc_score(test_target, result)\n",
    "    #print(\" 总体 AUC:\", score)\n",
    "    score_coupon = myauc(test)\n",
    "    print(\" Coupon AUC:\", score_coupon)"
   ]
  },
  {
   "cell_type": "code",
   "execution_count": 9,
   "metadata": {},
   "outputs": [],
   "source": [
    "#所有的特征都是上一节生成的\n",
    "train_f1,test_f1=read_data('f1')\n",
    "#因为要使用KNN等进行测试，所以需要归一化\n",
    "train_f1,test_f1=standize_df(train_f1,test_f1)\n"
   ]
  },
  {
   "cell_type": "code",
   "execution_count": null,
   "metadata": {},
   "outputs": [],
   "source": []
  },
  {
   "cell_type": "code",
   "execution_count": 149,
   "metadata": {},
   "outputs": [
    {
     "name": "stdout",
     "output_type": "stream",
     "text": [
      "MLP 总体 AUC: 0.8078207435075603\n",
      "MLP Coupon AUC: 0.7240847430212439\n"
     ]
    }
   ],
   "source": [
    "#逻辑回归\n",
    "test_model(train_f3,'MLP')"
   ]
  },
  {
   "cell_type": "code",
   "execution_count": 68,
   "metadata": {},
   "outputs": [
    {
     "name": "stdout",
     "output_type": "stream",
     "text": [
      "GBDT 总体 AUC: 0.7828443454607813\n",
      "GBDT Coupon AUC: 0.6035247998415417\n"
     ]
    }
   ],
   "source": [
    "test_model(train_f2,'GBDT')"
   ]
  },
  {
   "cell_type": "code",
   "execution_count": 12,
   "metadata": {},
   "outputs": [
    {
     "name": "stdout",
     "output_type": "stream",
     "text": [
      "NB 总体 AUC: 0.6670944091690476\n",
      "NB Coupon AUC: 0.5381247642711647\n"
     ]
    }
   ],
   "source": [
    "#朴素贝叶斯\n",
    "test_model(train_f1,'NB')"
   ]
  },
  {
   "cell_type": "code",
   "execution_count": 88,
   "metadata": {},
   "outputs": [
    {
     "name": "stdout",
     "output_type": "stream",
     "text": [
      "0\n",
      "DT 总体 AUC: 0.6481609737147687\n",
      "DT Coupon AUC: 0.5302514392404754\n"
     ]
    }
   ],
   "source": [
    "# 决策树\n",
    "test_model(train_f1,'DT')"
   ]
  },
  {
   "cell_type": "code",
   "execution_count": 14,
   "metadata": {},
   "outputs": [
    {
     "name": "stdout",
     "output_type": "stream",
     "text": [
      "RF 总体 AUC: 0.6480565011007058\n",
      "RF Coupon AUC: 0.529662321473247\n"
     ]
    }
   ],
   "source": [
    "# 随机森林\n",
    "test_model(train_f1,'RF')"
   ]
  },
  {
   "cell_type": "code",
   "execution_count": 96,
   "metadata": {},
   "outputs": [],
   "source": [
    "#按照日期分割\n",
    "def test_model(traindf,classifier,pars=None):\n",
    "    train=traindf[traindf.date_received<20160515].copy()\n",
    "    test=traindf[traindf.date_received>=20160515].copy()\n",
    "\n",
    "    train_data = get_predictors_df(train).copy()\n",
    "    train_target = get_target_df(train).copy()\n",
    "    test_data = get_predictors_df(test).copy()\n",
    "    test_target = get_target_df(test).copy()\n",
    "    \n",
    "    clf = get_sklearn_model(classifier)\n",
    "    if pars!=None:\n",
    "        clf.set_params(**pars)\n",
    "\n",
    "    clf.fit(train_data, train_target)\n",
    "    result=clf.predict_proba(test_data)[:,1]\n",
    "    test['pred']=result\n",
    "    score = metrics.roc_auc_score(test_target, result)\n",
    "    print(classifier+\" 总体 AUC:\", score)\n",
    "    score_coupon = myauc(test)\n",
    "    print(classifier+\" Coupon AUC:\", score_coupon)"
   ]
  },
  {
   "cell_type": "code",
   "execution_count": 74,
   "metadata": {},
   "outputs": [],
   "source": [
    "params = {\n",
    "    'booster': 'gbtree',\n",
    "    'objective': 'binary_logloss',\n",
    "    'num_class': 2,\n",
    "    'num_leaves': 31,\n",
    "    'subsample': 0.8,\n",
    "    'bagging_freq': 1,\n",
    "    'feature_fraction ': 0.8,\n",
    "    'slient': 1,\n",
    "    'learning_rate ': 0.01,\n",
    "    'seed': 0\n",
    "}"
   ]
  },
  {
   "cell_type": "code",
   "execution_count": null,
   "metadata": {},
   "outputs": [],
   "source": [
    "params = {\n",
    "    'objective': 'binary',\n",
    "    'learning_rate': 0.075,\n",
    "    'seed': 1024,\n",
    "    'n_estimators':200,\n",
    "    'max_depth':5,\n",
    "    'subsample':0.8\n",
    "}"
   ]
  },
  {
   "cell_type": "code",
   "execution_count": 152,
   "metadata": {},
   "outputs": [
    {
     "name": "stdout",
     "output_type": "stream",
     "text": [
      "LGB 总体 AUC: 0.823425746865561\n",
      "LGB Coupon AUC: 0.7401137523907148\n"
     ]
    }
   ],
   "source": [
    "params = {\n",
    "    'objective': 'binary',\n",
    "    'learning_rate': 0.075,\n",
    "    'seed': 1024,\n",
    "    'n_estimators':200,\n",
    "    'max_depth':5,\n",
    "    'subsample':0.8\n",
    "}\n",
    "# LightGBM\n",
    "test_model(train_f3,'LGB',params)"
   ]
  },
  {
   "cell_type": "code",
   "execution_count": 116,
   "metadata": {},
   "outputs": [
    {
     "name": "stdout",
     "output_type": "stream",
     "text": [
      "LGB 总体 AUC: 0.829832103489052\n",
      "LGB Coupon AUC: 0.741161595882742\n"
     ]
    }
   ],
   "source": []
  },
  {
   "cell_type": "code",
   "execution_count": 16,
   "metadata": {},
   "outputs": [
    {
     "name": "stdout",
     "output_type": "stream",
     "text": [
      "XGB 总体 AUC: 0.6537138075207527\n",
      "XGB Coupon AUC: 0.531849037296699\n"
     ]
    }
   ],
   "source": [
    "#XGBoost\n",
    "test_model(train_f1,'XGB')"
   ]
  },
  {
   "cell_type": "code",
   "execution_count": 17,
   "metadata": {},
   "outputs": [],
   "source": [
    "#所有的特征都是上一节生成的\n",
    "train_f2,test_f2=read_data('sf2')\n",
    "#因为要使用KNN等进行测试，所以需要归一化\n",
    "train_f2,test_f2=standize_df(train_f2,test_f2)\n",
    "\n",
    "#所有的特征都是上一节生成的\n",
    "train_f3,test_f3=read_data('sf3')\n",
    "#因为要使用KNN等进行测试，所以需要归一化\n",
    "train_f3,test_f3=standize_df(train_f3,test_f3)"
   ]
  },
  {
   "cell_type": "code",
   "execution_count": 65,
   "metadata": {},
   "outputs": [
    {
     "name": "stdout",
     "output_type": "stream",
     "text": [
      " 总体 AUC: 0.8137455779006189\n",
      " Coupon AUC: 0.7354165749876264\n"
     ]
    }
   ],
   "source": [
    "test_model_stack(train_f3,['LR',\"XGB\"])"
   ]
  },
  {
   "cell_type": "code",
   "execution_count": 18,
   "metadata": {},
   "outputs": [
    {
     "name": "stdout",
     "output_type": "stream",
     "text": [
      "特征f1逻辑回归成绩\n",
      "LR 总体 AUC: 0.6653536857862119\n",
      "LR Coupon AUC: 0.5381247642711647\n",
      "特征sf2逻辑回归成绩\n",
      "LR 总体 AUC: 0.7603100610977812\n",
      "LR Coupon AUC: 0.6030196306548136\n",
      "特征sf3逻辑回归成绩\n",
      "LR 总体 AUC: 0.8100282897146497\n",
      "LR Coupon AUC: 0.7290103338100681\n"
     ]
    }
   ],
   "source": [
    "print('特征f1逻辑回归成绩')\n",
    "test_model(train_f1,'LR')\n",
    "print('特征sf2逻辑回归成绩')\n",
    "test_model(train_f2,'LR')\n",
    "print('特征sf3逻辑回归成绩')\n",
    "test_model(train_f3,'LR')"
   ]
  },
  {
   "cell_type": "code",
   "execution_count": 19,
   "metadata": {},
   "outputs": [
    {
     "name": "stdout",
     "output_type": "stream",
     "text": [
      "特征f1朴素贝叶斯成绩\n",
      "NB 总体 AUC: 0.6670944091690476\n",
      "NB Coupon AUC: 0.5381247642711647\n",
      "特征sf2朴素贝叶斯成绩\n",
      "NB 总体 AUC: 0.7344423161179449\n",
      "NB Coupon AUC: 0.6063348615415269\n",
      "特征sf3朴素贝叶斯成绩\n",
      "NB 总体 AUC: 0.7812536833968516\n",
      "NB Coupon AUC: 0.7119101385059943\n"
     ]
    }
   ],
   "source": [
    "print('特征f1朴素贝叶斯成绩')\n",
    "test_model(train_f1,'NB')\n",
    "print('特征sf2朴素贝叶斯成绩')\n",
    "test_model(train_f2,'NB')\n",
    "print('特征sf3朴素贝叶斯成绩')\n",
    "test_model(train_f3,'NB')"
   ]
  },
  {
   "cell_type": "code",
   "execution_count": 20,
   "metadata": {},
   "outputs": [
    {
     "name": "stdout",
     "output_type": "stream",
     "text": [
      "特征f1决策树成绩\n",
      "DT 总体 AUC: 0.6481607651168957\n",
      "DT Coupon AUC: 0.5302514392404754\n",
      "特征sf2决策树成绩\n",
      "DT 总体 AUC: 0.5179836460117524\n",
      "DT Coupon AUC: 0.5171234622739289\n",
      "特征sf3决策树成绩\n",
      "DT 总体 AUC: 0.5721348787453637\n",
      "DT Coupon AUC: 0.5726505408639466\n"
     ]
    }
   ],
   "source": [
    "print('特征f1决策树成绩')\n",
    "test_model(train_f1,'DT')\n",
    "print('特征sf2决策树成绩')\n",
    "test_model(train_f2,'DT')\n",
    "print('特征sf3决策树成绩')\n",
    "test_model(train_f3,'DT')"
   ]
  },
  {
   "cell_type": "code",
   "execution_count": 21,
   "metadata": {},
   "outputs": [
    {
     "name": "stdout",
     "output_type": "stream",
     "text": [
      "特征f1随机森林成绩\n",
      "RF 总体 AUC: 0.6473093832452281\n",
      "RF Coupon AUC: 0.530107541180319\n",
      "特征sf2随机森林成绩\n",
      "RF 总体 AUC: 0.6904256599972033\n",
      "RF Coupon AUC: 0.56271683410204\n",
      "特征sf3随机森林成绩\n",
      "RF 总体 AUC: 0.7754596079984429\n",
      "RF Coupon AUC: 0.7080447915343251\n"
     ]
    }
   ],
   "source": [
    "print('特征f1随机森林成绩')\n",
    "test_model(train_f1,'RF')\n",
    "print('特征sf2随机森林成绩')\n",
    "test_model(train_f2,'RF')\n",
    "print('特征sf3随机森林成绩')\n",
    "test_model(train_f3,'RF')"
   ]
  },
  {
   "cell_type": "code",
   "execution_count": 22,
   "metadata": {},
   "outputs": [
    {
     "name": "stdout",
     "output_type": "stream",
     "text": [
      "特征f1 LightGBM成绩\n",
      "LGB 总体 AUC: 0.6534077718076291\n",
      "LGB Coupon AUC: 0.5327884933599097\n",
      "特征sf2  LightGBM成绩\n",
      "LGB 总体 AUC: 0.7741029767659218\n",
      "LGB Coupon AUC: 0.5984526360012944\n",
      "特征sf3  LightGBM成绩\n",
      "LGB 总体 AUC: 0.8284887876924993\n",
      "LGB Coupon AUC: 0.7374344321731373\n"
     ]
    }
   ],
   "source": [
    "print('特征f1 LightGBM成绩')\n",
    "test_model(train_f1,'LGB')\n",
    "print('特征sf2  LightGBM成绩')\n",
    "test_model(train_f2,'LGB')\n",
    "print('特征sf3  LightGBM成绩')\n",
    "test_model(train_f3,'LGB')"
   ]
  },
  {
   "cell_type": "code",
   "execution_count": 23,
   "metadata": {},
   "outputs": [
    {
     "name": "stdout",
     "output_type": "stream",
     "text": [
      "特征f1 XGBoost成绩\n",
      "XGB 总体 AUC: 0.6537138075207527\n",
      "XGB Coupon AUC: 0.531849037296699\n",
      "特征sf2  XGBoost成绩\n",
      "XGB 总体 AUC: 0.7274131700360452\n",
      "XGB Coupon AUC: 0.5886899184606202\n",
      "特征sf3  XGBoost成绩\n",
      "XGB 总体 AUC: 0.7973908059790942\n",
      "XGB Coupon AUC: 0.7290342232690418\n"
     ]
    }
   ],
   "source": [
    "print('特征f1 XGBoost成绩')\n",
    "test_model(train_f1,'XGB')\n",
    "print('特征sf2  XGBoost成绩')\n",
    "test_model(train_f2,'XGB')\n",
    "print('特征sf3  XGBoost成绩')\n",
    "test_model(train_f3,'XGB')"
   ]
  },
  {
   "cell_type": "code",
   "execution_count": 155,
   "metadata": {},
   "outputs": [],
   "source": [
    "#预测函数\n",
    "def classifier_df_simple(train_feat, test_feat,classifier,params):\n",
    "    model = get_sklearn_model(classifier)\n",
    "    model.set_params(**params) \n",
    "    model.fit(get_predictors_df(train_feat), get_target_df(train_feat))    \n",
    "    predicted = pd.DataFrame(model.predict_proba(get_predictors_df(test_feat))[:,1])\n",
    "    return predicted\n",
    "#输出结果函数\n",
    "def output_predicted(predicted,resultfile,test_feat):\n",
    "    predicted=round(predicted,3)\n",
    "    resultdf=get_id_df(test_feat).copy()\n",
    "    resultdf['Probability']=predicted\n",
    "    return resultdf"
   ]
  },
  {
   "cell_type": "code",
   "execution_count": 42,
   "metadata": {},
   "outputs": [],
   "source": [
    "def classifier_df_stack(train_feat, test_feat):\n",
    "    model = get_sklearn_model(\"LGB\")    \n",
    "    model.fit(get_predictors_df(train_feat), get_target_df(train_feat))    \n",
    "    predicted = pd.DataFrame(model.predict_proba(get_predictors_df(test_feat))[:,1])\n",
    "\n",
    "    model1 = get_sklearn_model(\"XGB\")    \n",
    "    model1.fit(get_predictors_df(train_feat), get_target_df(train_feat))    \n",
    "    predicted1 = pd.DataFrame(model1.predict_proba(get_predictors_df(test_feat))[:,1])\n",
    "\n",
    "    return 0.5*predicted+0.5*predicted1"
   ]
  },
  {
   "cell_type": "code",
   "execution_count": 156,
   "metadata": {},
   "outputs": [],
   "source": [
    "predicted=classifier_df_simple(train_f3, test_f3,'LGB',params)"
   ]
  },
  {
   "cell_type": "code",
   "execution_count": 44,
   "metadata": {},
   "outputs": [],
   "source": [
    "p=classifier_df_stack(train_f3, test_f3)"
   ]
  },
  {
   "cell_type": "code",
   "execution_count": 45,
   "metadata": {},
   "outputs": [
    {
     "data": {
      "text/html": [
       "<div>\n",
       "<style scoped>\n",
       "    .dataframe tbody tr th:only-of-type {\n",
       "        vertical-align: middle;\n",
       "    }\n",
       "\n",
       "    .dataframe tbody tr th {\n",
       "        vertical-align: top;\n",
       "    }\n",
       "\n",
       "    .dataframe thead th {\n",
       "        text-align: right;\n",
       "    }\n",
       "</style>\n",
       "<table border=\"1\" class=\"dataframe\">\n",
       "  <thead>\n",
       "    <tr style=\"text-align: right;\">\n",
       "      <th></th>\n",
       "      <th>0</th>\n",
       "    </tr>\n",
       "  </thead>\n",
       "  <tbody>\n",
       "    <tr>\n",
       "      <th>0</th>\n",
       "      <td>0.004812</td>\n",
       "    </tr>\n",
       "    <tr>\n",
       "      <th>1</th>\n",
       "      <td>0.141817</td>\n",
       "    </tr>\n",
       "    <tr>\n",
       "      <th>2</th>\n",
       "      <td>0.004435</td>\n",
       "    </tr>\n",
       "    <tr>\n",
       "      <th>3</th>\n",
       "      <td>0.009379</td>\n",
       "    </tr>\n",
       "    <tr>\n",
       "      <th>4</th>\n",
       "      <td>0.032814</td>\n",
       "    </tr>\n",
       "  </tbody>\n",
       "</table>\n",
       "</div>"
      ],
      "text/plain": [
       "          0\n",
       "0  0.004812\n",
       "1  0.141817\n",
       "2  0.004435\n",
       "3  0.009379\n",
       "4  0.032814"
      ]
     },
     "execution_count": 45,
     "metadata": {},
     "output_type": "execute_result"
    }
   ],
   "source": [
    "p.head()"
   ]
  },
  {
   "cell_type": "code",
   "execution_count": 157,
   "metadata": {},
   "outputs": [
    {
     "data": {
      "text/html": [
       "<div>\n",
       "<style scoped>\n",
       "    .dataframe tbody tr th:only-of-type {\n",
       "        vertical-align: middle;\n",
       "    }\n",
       "\n",
       "    .dataframe tbody tr th {\n",
       "        vertical-align: top;\n",
       "    }\n",
       "\n",
       "    .dataframe thead th {\n",
       "        text-align: right;\n",
       "    }\n",
       "</style>\n",
       "<table border=\"1\" class=\"dataframe\">\n",
       "  <thead>\n",
       "    <tr style=\"text-align: right;\">\n",
       "      <th></th>\n",
       "      <th>0</th>\n",
       "    </tr>\n",
       "  </thead>\n",
       "  <tbody>\n",
       "    <tr>\n",
       "      <th>0</th>\n",
       "      <td>0.005123</td>\n",
       "    </tr>\n",
       "    <tr>\n",
       "      <th>1</th>\n",
       "      <td>0.128401</td>\n",
       "    </tr>\n",
       "    <tr>\n",
       "      <th>2</th>\n",
       "      <td>0.004079</td>\n",
       "    </tr>\n",
       "    <tr>\n",
       "      <th>3</th>\n",
       "      <td>0.009573</td>\n",
       "    </tr>\n",
       "    <tr>\n",
       "      <th>4</th>\n",
       "      <td>0.031057</td>\n",
       "    </tr>\n",
       "  </tbody>\n",
       "</table>\n",
       "</div>"
      ],
      "text/plain": [
       "          0\n",
       "0  0.005123\n",
       "1  0.128401\n",
       "2  0.004079\n",
       "3  0.009573\n",
       "4  0.031057"
      ]
     },
     "execution_count": 157,
     "metadata": {},
     "output_type": "execute_result"
    }
   ],
   "source": [
    "predicted.head()"
   ]
  },
  {
   "cell_type": "code",
   "execution_count": 158,
   "metadata": {},
   "outputs": [],
   "source": [
    "#生成结果数据\n",
    "result=output_predicted(predicted,'sf3_LGB.csv',test_f3)"
   ]
  },
  {
   "cell_type": "code",
   "execution_count": 159,
   "metadata": {},
   "outputs": [
    {
     "data": {
      "text/html": [
       "<div>\n",
       "<style scoped>\n",
       "    .dataframe tbody tr th:only-of-type {\n",
       "        vertical-align: middle;\n",
       "    }\n",
       "\n",
       "    .dataframe tbody tr th {\n",
       "        vertical-align: top;\n",
       "    }\n",
       "\n",
       "    .dataframe thead th {\n",
       "        text-align: right;\n",
       "    }\n",
       "</style>\n",
       "<table border=\"1\" class=\"dataframe\">\n",
       "  <thead>\n",
       "    <tr style=\"text-align: right;\">\n",
       "      <th></th>\n",
       "      <th>user_id</th>\n",
       "      <th>coupon_id</th>\n",
       "      <th>date_received</th>\n",
       "      <th>Probability</th>\n",
       "    </tr>\n",
       "  </thead>\n",
       "  <tbody>\n",
       "    <tr>\n",
       "      <th>0</th>\n",
       "      <td>4129537</td>\n",
       "      <td>9983</td>\n",
       "      <td>20160712</td>\n",
       "      <td>0.005</td>\n",
       "    </tr>\n",
       "    <tr>\n",
       "      <th>1</th>\n",
       "      <td>6949378</td>\n",
       "      <td>3429</td>\n",
       "      <td>20160706</td>\n",
       "      <td>0.128</td>\n",
       "    </tr>\n",
       "    <tr>\n",
       "      <th>2</th>\n",
       "      <td>2166529</td>\n",
       "      <td>6928</td>\n",
       "      <td>20160727</td>\n",
       "      <td>0.004</td>\n",
       "    </tr>\n",
       "    <tr>\n",
       "      <th>3</th>\n",
       "      <td>2166529</td>\n",
       "      <td>1808</td>\n",
       "      <td>20160727</td>\n",
       "      <td>0.010</td>\n",
       "    </tr>\n",
       "    <tr>\n",
       "      <th>4</th>\n",
       "      <td>6172162</td>\n",
       "      <td>6500</td>\n",
       "      <td>20160708</td>\n",
       "      <td>0.031</td>\n",
       "    </tr>\n",
       "  </tbody>\n",
       "</table>\n",
       "</div>"
      ],
      "text/plain": [
       "   user_id  coupon_id  date_received  Probability\n",
       "0  4129537       9983       20160712        0.005\n",
       "1  6949378       3429       20160706        0.128\n",
       "2  2166529       6928       20160727        0.004\n",
       "3  2166529       1808       20160727        0.010\n",
       "4  6172162       6500       20160708        0.031"
      ]
     },
     "execution_count": 159,
     "metadata": {},
     "output_type": "execute_result"
    }
   ],
   "source": [
    "result.head()"
   ]
  },
  {
   "cell_type": "code",
   "execution_count": 160,
   "metadata": {},
   "outputs": [
    {
     "ename": "",
     "evalue": "",
     "output_type": "error",
     "traceback": [
      "\u001b[1;31m在当前单元格或上一个单元格中执行代码时 Kernel 崩溃。请查看单元格中的代码，以确定故障的可能原因。有关详细信息，请单击 <a href='https://aka.ms/vscodeJupyterKernelCrash'>此处</a>。有关更多详细信息，请查看 Jupyter <a href='command:jupyter.viewOutput'>log</a>。"
     ]
    }
   ],
   "source": [
    "result.to_csv('sf3_lgb.csv',header=False,index=False,sep=',')"
   ]
  }
 ],
 "metadata": {
  "kernelspec": {
   "display_name": "torch",
   "language": "python",
   "name": "python3"
  },
  "language_info": {
   "codemirror_mode": {
    "name": "ipython",
    "version": 3
   },
   "file_extension": ".py",
   "mimetype": "text/x-python",
   "name": "python",
   "nbconvert_exporter": "python",
   "pygments_lexer": "ipython3",
   "version": "3.8.13"
  },
  "orig_nbformat": 4
 },
 "nbformat": 4,
 "nbformat_minor": 2
}
